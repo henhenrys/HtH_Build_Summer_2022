{
 "cells": [
  {
   "cell_type": "code",
   "execution_count": 1,
   "id": "a8b4a6b9",
   "metadata": {},
   "outputs": [],
   "source": [
    "import pandas as pd\n",
    "import numpy as np\n",
    "import matplotlib as plt\n",
    "import seaborn as sns\n",
    "import scipy as stats\n",
    "\n",
    "df_train = pd.read_csv('video_games_sales.csv')\n",
    "df_test = pd.read_csv('video_games_sales.csv')\n",
    "\n",
    "x_train = df_train['NA_Sales']\n",
    "y_train = df_train['Global_Sales']\n",
    "x_test = df_test['NA_Sales']\n",
    "y_test = df_test['Global_Sales']\n",
    "\n",
    "x_train = np.array(x_train)\n",
    "y_train = np.array(y_train)\n",
    "x_test = np.array(x_test)\n",
    "y_test = np.array(y_test)\n",
    "\n",
    "x_train = x_train.reshape(-1,1)\n",
    "x_test = x_test.reshape(-1,1)"
   ]
  },
  {
   "cell_type": "code",
   "execution_count": 2,
   "id": "e6168935",
   "metadata": {},
   "outputs": [
    {
     "name": "stdout",
     "output_type": "stream",
     "text": [
      "0.8855007503060843\n"
     ]
    },
    {
     "name": "stderr",
     "output_type": "stream",
     "text": [
      "C:\\Users\\Henry\\AppData\\Local\\Programs\\Python\\Python310\\lib\\site-packages\\sklearn\\linear_model\\_base.py:141: FutureWarning: 'normalize' was deprecated in version 1.0 and will be removed in 1.2.\n",
      "If you wish to scale the data, use Pipeline with a StandardScaler in a preprocessing stage. To reproduce the previous behavior:\n",
      "\n",
      "from sklearn.pipeline import make_pipeline\n",
      "\n",
      "model = make_pipeline(StandardScaler(with_mean=False), LinearRegression())\n",
      "\n",
      "If you wish to pass a sample_weight parameter, you need to pass it as a fit parameter to each step of the pipeline as follows:\n",
      "\n",
      "kwargs = {s[0] + '__sample_weight': sample_weight for s in model.steps}\n",
      "model.fit(X, y, **kwargs)\n",
      "\n",
      "\n",
      "  warnings.warn(\n"
     ]
    }
   ],
   "source": [
    "from sklearn.linear_model import LinearRegression \n",
    "from sklearn.metrics import r2_score\n",
    "\n",
    "clf = LinearRegression(normalize=True)\n",
    "clf.fit(x_train,y_train)\n",
    "y_pred = clf.predict(x_test)\n",
    "print(r2_score(y_test,y_pred))"
   ]
  },
  {
   "cell_type": "code",
   "execution_count": 5,
   "id": "c3fe16e3",
   "metadata": {},
   "outputs": [
    {
     "ename": "ValueError",
     "evalue": "operands could not be broadcast together with shapes (700,1) (16719,1) ",
     "output_type": "error",
     "traceback": [
      "\u001b[1;31m---------------------------------------------------------------------------\u001b[0m",
      "\u001b[1;31mValueError\u001b[0m                                Traceback (most recent call last)",
      "Input \u001b[1;32mIn [5]\u001b[0m, in \u001b[0;36m<cell line: 10>\u001b[1;34m()\u001b[0m\n\u001b[0;32m      9\u001b[0m epochs \u001b[38;5;241m=\u001b[39m \u001b[38;5;241m0\u001b[39m\n\u001b[0;32m     10\u001b[0m \u001b[38;5;28;01mwhile\u001b[39;00m(epochs \u001b[38;5;241m<\u001b[39m \u001b[38;5;241m1000\u001b[39m):\n\u001b[1;32m---> 11\u001b[0m     y \u001b[38;5;241m=\u001b[39m a_0 \u001b[38;5;241m+\u001b[39m \u001b[43ma_1\u001b[49m\u001b[43m \u001b[49m\u001b[38;5;241;43m*\u001b[39;49m\u001b[43m \u001b[49m\u001b[43mx_train\u001b[49m\n\u001b[0;32m     12\u001b[0m     error \u001b[38;5;241m=\u001b[39m y \u001b[38;5;241m-\u001b[39m y_train\n\u001b[0;32m     13\u001b[0m     mean_sq_er \u001b[38;5;241m=\u001b[39m np\u001b[38;5;241m.\u001b[39msum(error\u001b[38;5;241m*\u001b[39m\u001b[38;5;241m*\u001b[39m\u001b[38;5;241m2\u001b[39m)\n",
      "\u001b[1;31mValueError\u001b[0m: operands could not be broadcast together with shapes (700,1) (16719,1) "
     ]
    }
   ],
   "source": [
    "import numpy as np\n",
    "\n",
    "n = 700\n",
    "alpha = 0.0001\n",
    "\n",
    "a_0 = np.zeros((n,1))\n",
    "a_1 = np.zeros((n,1))\n",
    "\n",
    "epochs = 0\n",
    "while(epochs < 1000):\n",
    "    y = a_0 + a_1 * x_train\n",
    "    error = y - y_train\n",
    "    mean_sq_er = np.sum(error**2)\n",
    "    mean_sq_er = mean_sq_er/n\n",
    "    a_0 = a_0 - alpha * 2 * np.sum(error)/n \n",
    "    a_1 = a_1 - alpha * 2 * np.sum(error * x_train)/n\n",
    "    epochs += 1\n",
    "    if(epochs%10 == 0):\n",
    "        print(mean_sq_er)"
   ]
  },
  {
   "cell_type": "code",
   "execution_count": null,
   "id": "e3d91ab2",
   "metadata": {},
   "outputs": [],
   "source": [
    "import matplotlib.pyplot as plt \n",
    "\n",
    "y_prediction = a_0 + a_1 * x_test\n",
    "print('R2 Score:',r2_score(y_test,y_prediction))\n",
    "\n",
    "y_plot = []\n",
    "for i in range(100):\n",
    "    y_plot.append(a_0 + a_1 * i)\n",
    "plt.figure(figsize=(10,10))\n",
    "plt.scatter(x_test,y_test,color='red',label='GT')\n",
    "plt.plot(range(len(y_plot)),y_plot,color='black',label = 'pred')\n",
    "plt.legend()\n",
    "plt.show()"
   ]
  }
 ],
 "metadata": {
  "kernelspec": {
   "display_name": "Python 3 (ipykernel)",
   "language": "python",
   "name": "python3"
  },
  "language_info": {
   "codemirror_mode": {
    "name": "ipython",
    "version": 3
   },
   "file_extension": ".py",
   "mimetype": "text/x-python",
   "name": "python",
   "nbconvert_exporter": "python",
   "pygments_lexer": "ipython3",
   "version": "3.10.4"
  }
 },
 "nbformat": 4,
 "nbformat_minor": 5
}
